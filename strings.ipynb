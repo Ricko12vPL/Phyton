{
 "cells": [
  {
   "cell_type": "code",
   "execution_count": 3,
   "id": "85ea6aac-f9f2-4a2a-be78-7d096a3d20e1",
   "metadata": {},
   "outputs": [],
   "source": [
    "mystring = \"Hello World\""
   ]
  },
  {
   "cell_type": "code",
   "execution_count": 5,
   "id": "5f075c62-482d-48d3-b315-4716c29dec0f",
   "metadata": {},
   "outputs": [
    {
     "data": {
      "text/plain": [
       "'Hello World'"
      ]
     },
     "execution_count": 5,
     "metadata": {},
     "output_type": "execute_result"
    }
   ],
   "source": [
    "mystring"
   ]
  },
  {
   "cell_type": "code",
   "execution_count": 7,
   "id": "788af242-ab3a-4088-bb61-18f648db6380",
   "metadata": {},
   "outputs": [
    {
     "data": {
      "text/plain": [
       "'r'"
      ]
     },
     "execution_count": 7,
     "metadata": {},
     "output_type": "execute_result"
    }
   ],
   "source": [
    "mystring[8]"
   ]
  },
  {
   "cell_type": "code",
   "execution_count": 10,
   "id": "e0f2150b-220c-4e24-9e9d-f571872e0d15",
   "metadata": {},
   "outputs": [
    {
     "data": {
      "text/plain": [
       "'ke'"
      ]
     },
     "execution_count": 10,
     "metadata": {},
     "output_type": "execute_result"
    }
   ],
   "source": [
    "'ticker'[3:5]"
   ]
  },
  {
   "cell_type": "code",
   "execution_count": 12,
   "id": "420b9123-827e-4167-b893-5fb9f8b16327",
   "metadata": {},
   "outputs": [
    {
     "data": {
      "text/plain": [
       "'ck'"
      ]
     },
     "execution_count": 12,
     "metadata": {},
     "output_type": "execute_result"
    }
   ],
   "source": [
    "'ticker'[2:4]"
   ]
  },
  {
   "cell_type": "code",
   "execution_count": 14,
   "id": "c60cc5e8-3fee-4ba6-a002-d7006fc09be9",
   "metadata": {},
   "outputs": [
    {
     "data": {
      "text/plain": [
       "'inke'"
      ]
     },
     "execution_count": 14,
     "metadata": {},
     "output_type": "execute_result"
    }
   ],
   "source": [
    "'tinker'[1:5]"
   ]
  },
  {
   "cell_type": "code",
   "execution_count": 16,
   "id": "986af9bb-7303-435a-b11e-ed31afd44d00",
   "metadata": {},
   "outputs": [
    {
     "data": {
      "text/plain": [
       "'ink'"
      ]
     },
     "execution_count": 16,
     "metadata": {},
     "output_type": "execute_result"
    }
   ],
   "source": [
    "'tinker'[1:4]"
   ]
  },
  {
   "cell_type": "code",
   "execution_count": 18,
   "id": "e609f25a-a09c-47c4-a181-b114e37c1f7b",
   "metadata": {},
   "outputs": [],
   "source": [
    "name = \"Sam\""
   ]
  },
  {
   "cell_type": "code",
   "execution_count": 22,
   "id": "e3abe8d5-1b88-46d6-88e6-68aea6c38b9d",
   "metadata": {},
   "outputs": [],
   "source": [
    "last_letters = name[1:]"
   ]
  },
  {
   "cell_type": "code",
   "execution_count": 24,
   "id": "ad1ca74b-7022-4440-888f-d5227502e880",
   "metadata": {},
   "outputs": [
    {
     "data": {
      "text/plain": [
       "'am'"
      ]
     },
     "execution_count": 24,
     "metadata": {},
     "output_type": "execute_result"
    }
   ],
   "source": [
    "last_letters"
   ]
  },
  {
   "cell_type": "code",
   "execution_count": 26,
   "id": "188f1755-7486-43c9-8595-71b5568c8889",
   "metadata": {},
   "outputs": [
    {
     "data": {
      "text/plain": [
       "'Pam'"
      ]
     },
     "execution_count": 26,
     "metadata": {},
     "output_type": "execute_result"
    }
   ],
   "source": [
    "'P' + last_letters"
   ]
  },
  {
   "cell_type": "code",
   "execution_count": 28,
   "id": "3fc5ca55-ff9c-45d6-bf97-747415990507",
   "metadata": {},
   "outputs": [],
   "source": [
    " x = \" it is beatiful outside !\""
   ]
  },
  {
   "cell_type": "code",
   "execution_count": 30,
   "id": "cbb68f5d-10c4-454d-8ba1-61f2e0efc6d4",
   "metadata": {},
   "outputs": [],
   "source": [
    "x = 'Hello World'"
   ]
  },
  {
   "cell_type": "code",
   "execution_count": 32,
   "id": "1867ec6a-2b6a-4b82-9c8c-4674e97fe278",
   "metadata": {},
   "outputs": [
    {
     "data": {
      "text/plain": [
       "'Hello World it is beatiful outside !'"
      ]
     },
     "execution_count": 32,
     "metadata": {},
     "output_type": "execute_result"
    }
   ],
   "source": [
    "x + \" it is beatiful outside !\""
   ]
  },
  {
   "cell_type": "code",
   "execution_count": 34,
   "id": "7e2263b4-0bd7-481a-a821-254425dc761b",
   "metadata": {},
   "outputs": [],
   "source": [
    "x = x + \" it is beatiful outside !\""
   ]
  },
  {
   "cell_type": "code",
   "execution_count": 36,
   "id": "37aa49f8-fa99-4278-81e5-d3e009c8c2db",
   "metadata": {},
   "outputs": [
    {
     "data": {
      "text/plain": [
       "'Hello World it is beatiful outside !'"
      ]
     },
     "execution_count": 36,
     "metadata": {},
     "output_type": "execute_result"
    }
   ],
   "source": [
    "x"
   ]
  },
  {
   "cell_type": "code",
   "execution_count": 38,
   "id": "c936fd51-86d7-4c67-ac02-ad5e4c182ec9",
   "metadata": {},
   "outputs": [],
   "source": [
    "x = x + \" it is beatiful outside !\""
   ]
  },
  {
   "cell_type": "code",
   "execution_count": null,
   "id": "39b3f391-878c-40be-9341-d1d64e712e24",
   "metadata": {},
   "outputs": [],
   "source": []
  },
  {
   "cell_type": "code",
   "execution_count": 41,
   "id": "b49a04a5-ee13-4bc3-befb-1e5fa90eca9e",
   "metadata": {},
   "outputs": [
    {
     "data": {
      "text/plain": [
       "'Hello World it is beatiful outside ! it is beatiful outside !'"
      ]
     },
     "execution_count": 41,
     "metadata": {},
     "output_type": "execute_result"
    }
   ],
   "source": [
    "x"
   ]
  },
  {
   "cell_type": "code",
   "execution_count": 43,
   "id": "e7617034-033e-41e4-880f-4f338c2e3c35",
   "metadata": {},
   "outputs": [],
   "source": [
    "letter = 'z'"
   ]
  },
  {
   "cell_type": "code",
   "execution_count": 45,
   "id": "efa937cb-64f0-40a7-b086-607d036345a9",
   "metadata": {},
   "outputs": [
    {
     "data": {
      "text/plain": [
       "'zzzzzzzzzz'"
      ]
     },
     "execution_count": 45,
     "metadata": {},
     "output_type": "execute_result"
    }
   ],
   "source": [
    "letter * 10"
   ]
  },
  {
   "cell_type": "code",
   "execution_count": 47,
   "id": "6a8da7a4-dd22-4fee-a7d2-6b328aacb6f2",
   "metadata": {},
   "outputs": [
    {
     "data": {
      "text/plain": [
       "'23'"
      ]
     },
     "execution_count": 47,
     "metadata": {},
     "output_type": "execute_result"
    }
   ],
   "source": [
    "'2' + '3'"
   ]
  },
  {
   "cell_type": "code",
   "execution_count": 49,
   "id": "104090c7-b67a-4e2f-b0e2-289779ae0cb3",
   "metadata": {},
   "outputs": [],
   "source": [
    "x = 'Hello World'"
   ]
  },
  {
   "cell_type": "code",
   "execution_count": 51,
   "id": "8a2c445f-7099-433e-9c3d-5dd19f0e2056",
   "metadata": {},
   "outputs": [
    {
     "data": {
      "text/plain": [
       "'HELLO WORLD'"
      ]
     },
     "execution_count": 51,
     "metadata": {},
     "output_type": "execute_result"
    }
   ],
   "source": [
    "x.upper()"
   ]
  },
  {
   "cell_type": "code",
   "execution_count": 53,
   "id": "46fd8cf4-1064-4dc0-a375-ec30cd123368",
   "metadata": {},
   "outputs": [
    {
     "data": {
      "text/plain": [
       "'hello world'"
      ]
     },
     "execution_count": 53,
     "metadata": {},
     "output_type": "execute_result"
    }
   ],
   "source": [
    "x.lower()"
   ]
  },
  {
   "cell_type": "code",
   "execution_count": 55,
   "id": "484db789-2fc1-43b5-aaa0-e29ed34441f6",
   "metadata": {},
   "outputs": [
    {
     "data": {
      "text/plain": [
       "['Hello', 'World']"
      ]
     },
     "execution_count": 55,
     "metadata": {},
     "output_type": "execute_result"
    }
   ],
   "source": [
    "x.split()"
   ]
  },
  {
   "cell_type": "code",
   "execution_count": 63,
   "id": "2fef4dd7-f3f4-474f-9c3b-b6ac10908762",
   "metadata": {},
   "outputs": [],
   "source": [
    "x = 'Hi this is a sstring'"
   ]
  },
  {
   "cell_type": "code",
   "execution_count": 65,
   "id": "0b61dce6-5074-43cf-81bb-db1f2add0e6e",
   "metadata": {},
   "outputs": [
    {
     "data": {
      "text/plain": [
       "['Hi', 'this', 'is', 'a', 'sstring']"
      ]
     },
     "execution_count": 65,
     "metadata": {},
     "output_type": "execute_result"
    }
   ],
   "source": [
    "x.split()"
   ]
  },
  {
   "cell_type": "code",
   "execution_count": 67,
   "id": "d44fe2b8-a440-40bf-8bdf-321efaf1181d",
   "metadata": {},
   "outputs": [
    {
     "data": {
      "text/plain": [
       "['H', ' th', 's ', 's a sstr', 'ng']"
      ]
     },
     "execution_count": 67,
     "metadata": {},
     "output_type": "execute_result"
    }
   ],
   "source": [
    "x.split('i')"
   ]
  },
  {
   "cell_type": "code",
   "execution_count": 69,
   "id": "0d75f706-c352-4ec4-9786-b11c534598d8",
   "metadata": {},
   "outputs": [
    {
     "name": "stdout",
     "output_type": "stream",
     "text": [
      "Hello\n"
     ]
    }
   ],
   "source": [
    "print('Hello')"
   ]
  },
  {
   "cell_type": "code",
   "execution_count": null,
   "id": "b0502538-bdc5-4142-926f-2bba412eb68c",
   "metadata": {},
   "outputs": [],
   "source": [
    "name = \"Sam\""
   ]
  },
  {
   "cell_type": "code",
   "execution_count": null,
   "id": "17157610-a47f-40a5-9cd8-84409ec28922",
   "metadata": {},
   "outputs": [],
   "source": []
  }
 ],
 "metadata": {
  "kernelspec": {
   "display_name": "Python 3 (ipykernel)",
   "language": "python",
   "name": "python3"
  },
  "language_info": {
   "codemirror_mode": {
    "name": "ipython",
    "version": 3
   },
   "file_extension": ".py",
   "mimetype": "text/x-python",
   "name": "python",
   "nbconvert_exporter": "python",
   "pygments_lexer": "ipython3",
   "version": "3.12.4"
  }
 },
 "nbformat": 4,
 "nbformat_minor": 5
}
