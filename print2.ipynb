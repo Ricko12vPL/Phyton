{
 "cells": [
  {
   "cell_type": "code",
   "execution_count": 2,
   "id": "33f9f5ca-a55e-4ae5-aaf3-949ed710e8b8",
   "metadata": {},
   "outputs": [
    {
     "data": {
      "text/plain": [
       "'Bob scored 34 point'"
      ]
     },
     "execution_count": 2,
     "metadata": {},
     "output_type": "execute_result"
    }
   ],
   "source": [
    "'{} {} {} {}' .format('Bob', 'scored', '34', 'point')"
   ]
  },
  {
   "cell_type": "code",
   "execution_count": 14,
   "id": "72282618-e3d1-4f00-b985-f778dbad3761",
   "metadata": {},
   "outputs": [
    {
     "data": {
      "text/plain": [
       "('Bob scored 34 point', 'Sam scored 12 point')"
      ]
     },
     "execution_count": 14,
     "metadata": {},
     "output_type": "execute_result"
    }
   ],
   "source": [
    "'{} {} {} {}' .format('Bob', 'scored', '34', 'point'), '{} {} {} {}' .format('Sam', 'scored', '12', 'point')"
   ]
  },
  {
   "cell_type": "code",
   "execution_count": 16,
   "id": "11c23d94-2ef4-461d-9c70-a4e173e42a19",
   "metadata": {},
   "outputs": [
    {
     "name": "stdout",
     "output_type": "stream",
     "text": [
      "Fruit    | Quantity \n",
      "Apples   |       3.0\n",
      "Oranges  |        10\n"
     ]
    }
   ],
   "source": [
    "print('{0:8} | {1:9}' .format ('Fruit', 'Quantity'))\n",
    "print('{0:8} | {1:9}' .format ('Apples', 3.))\n",
    "print('{0:8} | {1:9}' .format ('Oranges', 10))"
   ]
  },
  {
   "cell_type": "code",
   "execution_count": 18,
   "id": "20b7018a-6c75-4731-844a-40fd98921d36",
   "metadata": {},
   "outputs": [
    {
     "name": "stdout",
     "output_type": "stream",
     "text": [
      "Names    | Pionts   \n",
      "Bob      |         3\n",
      "Mark     |        10\n"
     ]
    }
   ],
   "source": [
    "print('{0:8} | {1:9}' .format ('Names', 'Pionts'))\n",
    "print('{0:8} | {1:9}' .format ('Bob', 3))\n",
    "print('{0:8} | {1:9}' .format ('Mark', 10))"
   ]
  },
  {
   "cell_type": "code",
   "execution_count": 22,
   "id": "89c63f5a-ee32-414f-a126-d6cc9c6a75be",
   "metadata": {},
   "outputs": [
    {
     "name": "stdout",
     "output_type": "stream",
     "text": [
      "Names    |  Cuontry  |    Point\n",
      "Bob      |    USA    |        3\n",
      "Mark     | Australia |       10\n",
      "Liliia   | Australia |       20\n",
      "Charlie  | Australia |       15\n",
      "Kacper   | Australia |       20\n"
     ]
    }
   ],
   "source": [
    "print('{0:<8} | {1:^9} | {2:>8}' .format ('Names', 'Cuontry', 'Point'))\n",
    "print('{0:<8} | {1:^9} | {2:>8}' .format ('Bob', 'USA', 3))\n",
    "print('{0:<8} | {1:^8} | {2:>8}' .format ('Mark', 'Australia', 10))\n",
    "print('{0:<8} | {1:^8} | {2:>8}' .format ('Liliia', 'Australia', 20))\n",
    "print('{0:<8} | {1:^8} | {2:>8}' .format ('Charlie', 'Australia', 15))\n",
    "print('{0:<8} | {1:^8} | {2:>8}' .format ('Kacper', 'Australia', 20))"
   ]
  },
  {
   "cell_type": "code",
   "execution_count": null,
   "id": "9eaea76d-adc8-4dc1-bb29-6a9f38c3df9d",
   "metadata": {},
   "outputs": [],
   "source": []
  }
 ],
 "metadata": {
  "kernelspec": {
   "display_name": "Python 3 (ipykernel)",
   "language": "python",
   "name": "python3"
  },
  "language_info": {
   "codemirror_mode": {
    "name": "ipython",
    "version": 3
   },
   "file_extension": ".py",
   "mimetype": "text/x-python",
   "name": "python",
   "nbconvert_exporter": "python",
   "pygments_lexer": "ipython3",
   "version": "3.12.4"
  }
 },
 "nbformat": 4,
 "nbformat_minor": 5
}
