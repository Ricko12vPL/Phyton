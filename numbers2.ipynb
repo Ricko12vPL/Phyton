{
 "cells": [
  {
   "cell_type": "code",
   "execution_count": 2,
   "id": "32c06e9e-4c34-4274-9c90-11f3e192fc9d",
   "metadata": {},
   "outputs": [],
   "source": [
    "a=43"
   ]
  },
  {
   "cell_type": "code",
   "execution_count": 4,
   "id": "31030d03-7d0f-47d2-b928-c3d2cc815c01",
   "metadata": {},
   "outputs": [
    {
     "data": {
      "text/plain": [
       "86"
      ]
     },
     "execution_count": 4,
     "metadata": {},
     "output_type": "execute_result"
    }
   ],
   "source": [
    "a+a"
   ]
  },
  {
   "cell_type": "code",
   "execution_count": 9,
   "id": "216d1321-e196-4e7a-a6c6-ef71ba1cdb14",
   "metadata": {},
   "outputs": [],
   "source": [
    "b=a+a"
   ]
  },
  {
   "cell_type": "code",
   "execution_count": 11,
   "id": "1867982a-a96d-4501-ba3e-3b6022516741",
   "metadata": {},
   "outputs": [
    {
     "data": {
      "text/plain": [
       "129"
      ]
     },
     "execution_count": 11,
     "metadata": {},
     "output_type": "execute_result"
    }
   ],
   "source": [
    "b+a"
   ]
  },
  {
   "cell_type": "code",
   "execution_count": 13,
   "id": "89838bf5-ea94-4dbb-9d77-fa74fea8fff3",
   "metadata": {},
   "outputs": [],
   "source": [
    "c=129"
   ]
  },
  {
   "cell_type": "code",
   "execution_count": 15,
   "id": "f1afd9ec-9d04-49a4-8d3c-af0381657de4",
   "metadata": {},
   "outputs": [
    {
     "data": {
      "text/plain": [
       "-22272"
      ]
     },
     "execution_count": 15,
     "metadata": {},
     "output_type": "execute_result"
    }
   ],
   "source": [
    "b^2-4*a*c"
   ]
  },
  {
   "cell_type": "code",
   "execution_count": 17,
   "id": "87bfb914-a76a-4a02-a42d-bb30614edd43",
   "metadata": {},
   "outputs": [],
   "source": [
    "c=-129"
   ]
  },
  {
   "cell_type": "code",
   "execution_count": 19,
   "id": "18a55b7e-558c-4f9a-b282-5c2ec24518bd",
   "metadata": {},
   "outputs": [
    {
     "data": {
      "text/plain": [
       "22264"
      ]
     },
     "execution_count": 19,
     "metadata": {},
     "output_type": "execute_result"
    }
   ],
   "source": [
    "b^2-4*a*c"
   ]
  },
  {
   "cell_type": "code",
   "execution_count": 21,
   "id": "78fa750c-f9e5-46f3-b089-c3abc295ed1c",
   "metadata": {},
   "outputs": [
    {
     "name": "stdout",
     "output_type": "stream",
     "text": [
      "a\n"
     ]
    }
   ],
   "source": [
    "print ('a')"
   ]
  },
  {
   "cell_type": "code",
   "execution_count": 23,
   "id": "d86488f8-37ed-4009-a753-741f143d8c20",
   "metadata": {},
   "outputs": [
    {
     "ename": "SyntaxError",
     "evalue": "expected '(' (1839089506.py, line 1)",
     "output_type": "error",
     "traceback": [
      "\u001b[0;36m  Cell \u001b[0;32mIn[23], line 1\u001b[0;36m\u001b[0m\n\u001b[0;31m    def a, b, c\u001b[0m\n\u001b[0m         ^\u001b[0m\n\u001b[0;31mSyntaxError\u001b[0m\u001b[0;31m:\u001b[0m expected '('\n"
     ]
    }
   ],
   "source": [
    "def a, b, c"
   ]
  },
  {
   "cell_type": "code",
   "execution_count": 25,
   "id": "3421fecb-5cd4-421b-8152-fe051286f00e",
   "metadata": {},
   "outputs": [
    {
     "ename": "SyntaxError",
     "evalue": "invalid syntax (2424519786.py, line 1)",
     "output_type": "error",
     "traceback": [
      "\u001b[0;36m  Cell \u001b[0;32mIn[25], line 1\u001b[0;36m\u001b[0m\n\u001b[0;31m    def(a,b,c)\u001b[0m\n\u001b[0m       ^\u001b[0m\n\u001b[0;31mSyntaxError\u001b[0m\u001b[0;31m:\u001b[0m invalid syntax\n"
     ]
    }
   ],
   "source": [
    "def(a,b,c)"
   ]
  },
  {
   "cell_type": "code",
   "execution_count": 27,
   "id": "04eed56e-ba8e-41ea-ab87-2e0cf55d332a",
   "metadata": {},
   "outputs": [
    {
     "ename": "SyntaxError",
     "evalue": "invalid syntax (1633334297.py, line 1)",
     "output_type": "error",
     "traceback": [
      "\u001b[0;36m  Cell \u001b[0;32mIn[27], line 1\u001b[0;36m\u001b[0m\n\u001b[0;31m    def ( a,b,c )\u001b[0m\n\u001b[0m        ^\u001b[0m\n\u001b[0;31mSyntaxError\u001b[0m\u001b[0;31m:\u001b[0m invalid syntax\n"
     ]
    }
   ],
   "source": [
    "def ( a,b,c )"
   ]
  },
  {
   "cell_type": "code",
   "execution_count": 29,
   "id": "ba1d3f7c-c7d9-4b8a-8c8d-2d2926bc6549",
   "metadata": {},
   "outputs": [
    {
     "ename": "SyntaxError",
     "evalue": "invalid syntax (62411553.py, line 1)",
     "output_type": "error",
     "traceback": [
      "\u001b[0;36m  Cell \u001b[0;32mIn[29], line 1\u001b[0;36m\u001b[0m\n\u001b[0;31m    a=\u001b[0m\n\u001b[0m      ^\u001b[0m\n\u001b[0;31mSyntaxError\u001b[0m\u001b[0;31m:\u001b[0m invalid syntax\n"
     ]
    }
   ],
   "source": [
    "a="
   ]
  },
  {
   "cell_type": "code",
   "execution_count": 31,
   "id": "676157ae-fe72-43c7-bfa0-075d6f156473",
   "metadata": {},
   "outputs": [
    {
     "data": {
      "text/plain": [
       "43"
      ]
     },
     "execution_count": 31,
     "metadata": {},
     "output_type": "execute_result"
    }
   ],
   "source": [
    "a"
   ]
  },
  {
   "cell_type": "code",
   "execution_count": 33,
   "id": "2450c43c-3597-4b1c-8a5b-49e0dc92e512",
   "metadata": {},
   "outputs": [
    {
     "data": {
      "text/plain": [
       "86"
      ]
     },
     "execution_count": 33,
     "metadata": {},
     "output_type": "execute_result"
    }
   ],
   "source": [
    "b"
   ]
  },
  {
   "cell_type": "code",
   "execution_count": 35,
   "id": "5be6fa84-badb-48a1-9b3a-9e86f66fcdc7",
   "metadata": {},
   "outputs": [
    {
     "data": {
      "text/plain": [
       "-129"
      ]
     },
     "execution_count": 35,
     "metadata": {},
     "output_type": "execute_result"
    }
   ],
   "source": [
    "c"
   ]
  },
  {
   "cell_type": "code",
   "execution_count": 37,
   "id": "cefaa311-1ad2-44ee-a9b8-77988eddee0f",
   "metadata": {},
   "outputs": [],
   "source": [
    "# g force F=G(m1*m2)/r^2 G=const=6,67*10^-11 [Nm2/kg2]"
   ]
  },
  {
   "cell_type": "code",
   "execution_count": 39,
   "id": "4d19ff34-67b9-48b7-8b2e-36a04b690a59",
   "metadata": {},
   "outputs": [],
   "source": [
    "# Mz=5,98*10^24 kg Ms=1,99*10^30 kg r=1,5*10^11"
   ]
  },
  {
   "cell_type": "code",
   "execution_count": 41,
   "id": "65cb4786-2b1e-42a3-bf64-98e7a24ee13d",
   "metadata": {},
   "outputs": [
    {
     "ename": "TypeError",
     "evalue": "unsupported operand type(s) for ^: 'float' and 'int'",
     "output_type": "error",
     "traceback": [
      "\u001b[0;31m---------------------------------------------------------------------------\u001b[0m",
      "\u001b[0;31mTypeError\u001b[0m                                 Traceback (most recent call last)",
      "Cell \u001b[0;32mIn[41], line 1\u001b[0m\n\u001b[0;32m----> 1\u001b[0m G\u001b[38;5;241m=\u001b[39m\u001b[38;5;241m6.67\u001b[39m\u001b[38;5;241m*\u001b[39m\u001b[38;5;241m10\u001b[39m\u001b[38;5;241m^\u001b[39m\u001b[38;5;241m-\u001b[39m\u001b[38;5;241m11\u001b[39m\n",
      "\u001b[0;31mTypeError\u001b[0m: unsupported operand type(s) for ^: 'float' and 'int'"
     ]
    }
   ],
   "source": [
    "G=6.67*10^-11"
   ]
  },
  {
   "cell_type": "code",
   "execution_count": 45,
   "id": "f5794826-be04-4aaa-ac36-e8ed7893a394",
   "metadata": {},
   "outputs": [
    {
     "ename": "TypeError",
     "evalue": "unsupported operand type(s) for ^: 'float' and 'int'",
     "output_type": "error",
     "traceback": [
      "\u001b[0;31m---------------------------------------------------------------------------\u001b[0m",
      "\u001b[0;31mTypeError\u001b[0m                                 Traceback (most recent call last)",
      "Cell \u001b[0;32mIn[45], line 1\u001b[0m\n\u001b[0;32m----> 1\u001b[0m g\u001b[38;5;241m=\u001b[39m\u001b[38;5;241m6.67\u001b[39m\u001b[38;5;241m*\u001b[39m\u001b[38;5;241m10\u001b[39m\u001b[38;5;241m^\u001b[39m\u001b[38;5;241m-\u001b[39m\u001b[38;5;241m11\u001b[39m\n",
      "\u001b[0;31mTypeError\u001b[0m: unsupported operand type(s) for ^: 'float' and 'int'"
     ]
    }
   ],
   "source": [
    "g=6.67*10^-11"
   ]
  },
  {
   "cell_type": "code",
   "execution_count": 47,
   "id": "aca24330-3830-4bf4-b61e-1a39607b7fcf",
   "metadata": {},
   "outputs": [
    {
     "ename": "TypeError",
     "evalue": "unsupported operand type(s) for ^: 'float' and 'int'",
     "output_type": "error",
     "traceback": [
      "\u001b[0;31m---------------------------------------------------------------------------\u001b[0m",
      "\u001b[0;31mTypeError\u001b[0m                                 Traceback (most recent call last)",
      "Cell \u001b[0;32mIn[47], line 1\u001b[0m\n\u001b[0;32m----> 1\u001b[0m G\u001b[38;5;241m=\u001b[39m\u001b[38;5;241m6.67\u001b[39m\u001b[38;5;241m*\u001b[39m\u001b[38;5;241m10\u001b[39m\u001b[38;5;241m^\u001b[39m\u001b[38;5;241m11\u001b[39m\n",
      "\u001b[0;31mTypeError\u001b[0m: unsupported operand type(s) for ^: 'float' and 'int'"
     ]
    }
   ],
   "source": [
    "G=6.67*10^11"
   ]
  },
  {
   "cell_type": "code",
   "execution_count": 49,
   "id": "c6a52b90-aa31-4a26-b9de-d03ff451f043",
   "metadata": {},
   "outputs": [],
   "source": [
    "G=6,67*10^11"
   ]
  },
  {
   "cell_type": "code",
   "execution_count": 51,
   "id": "43b7f324-cb92-49e8-8548-a091ae66fdaa",
   "metadata": {},
   "outputs": [],
   "source": [
    "G=6,67*10^-11"
   ]
  },
  {
   "cell_type": "code",
   "execution_count": 53,
   "id": "744b9293-b19c-4189-b41d-7569f5c5043b",
   "metadata": {},
   "outputs": [],
   "source": [
    "Mz=5,98*10^24"
   ]
  },
  {
   "cell_type": "code",
   "execution_count": 55,
   "id": "792958a5-3449-4905-877d-ce75478ebfe5",
   "metadata": {},
   "outputs": [
    {
     "ename": "NameError",
     "evalue": "name 'Ms' is not defined",
     "output_type": "error",
     "traceback": [
      "\u001b[0;31m---------------------------------------------------------------------------\u001b[0m",
      "\u001b[0;31mNameError\u001b[0m                                 Traceback (most recent call last)",
      "Cell \u001b[0;32mIn[55], line 1\u001b[0m\n\u001b[0;32m----> 1\u001b[0m Ms\u001b[38;5;241m+\u001b[39m\u001b[38;5;241m1\u001b[39m,\u001b[38;5;241m99\u001b[39m\u001b[38;5;241m*\u001b[39m\u001b[38;5;241m10\u001b[39m\u001b[38;5;241m^\u001b[39m\u001b[38;5;241m30\u001b[39m\n",
      "\u001b[0;31mNameError\u001b[0m: name 'Ms' is not defined"
     ]
    }
   ],
   "source": [
    "Ms+1,99*10^30"
   ]
  },
  {
   "cell_type": "code",
   "execution_count": 57,
   "id": "6014983f-3be5-4596-af87-7b8d48bc6179",
   "metadata": {},
   "outputs": [],
   "source": [
    "Ms=1,99*10^30"
   ]
  },
  {
   "cell_type": "code",
   "execution_count": 59,
   "id": "5be169e1-0521-4472-9732-0a4013afd21c",
   "metadata": {},
   "outputs": [],
   "source": [
    "r=1,5*10^11"
   ]
  },
  {
   "cell_type": "code",
   "execution_count": 61,
   "id": "eec05783-edd4-47e6-bf68-ae3d80a76041",
   "metadata": {},
   "outputs": [
    {
     "ename": "TypeError",
     "evalue": "can't multiply sequence by non-int of type 'tuple'",
     "output_type": "error",
     "traceback": [
      "\u001b[0;31m---------------------------------------------------------------------------\u001b[0m",
      "\u001b[0;31mTypeError\u001b[0m                                 Traceback (most recent call last)",
      "Cell \u001b[0;32mIn[61], line 1\u001b[0m\n\u001b[0;32m----> 1\u001b[0m F\u001b[38;5;241m=\u001b[39mG(Mz\u001b[38;5;241m*\u001b[39mMs)\u001b[38;5;241m/\u001b[39mr\u001b[38;5;241m^\u001b[39m\u001b[38;5;241m2\u001b[39m\n",
      "\u001b[0;31mTypeError\u001b[0m: can't multiply sequence by non-int of type 'tuple'"
     ]
    }
   ],
   "source": [
    "F=G(Mz*Ms)/r^2"
   ]
  },
  {
   "cell_type": "code",
   "execution_count": 63,
   "id": "7a70563b-aeac-41cd-82fb-42a8b11c96bb",
   "metadata": {},
   "outputs": [
    {
     "data": {
      "text/plain": [
       "(6, -661)"
      ]
     },
     "execution_count": 63,
     "metadata": {},
     "output_type": "execute_result"
    }
   ],
   "source": [
    "G"
   ]
  },
  {
   "cell_type": "code",
   "execution_count": 65,
   "id": "8d18dbef-e448-4c56-a6c3-8c976fc3673e",
   "metadata": {},
   "outputs": [
    {
     "data": {
      "text/plain": [
       "(5, 972)"
      ]
     },
     "execution_count": 65,
     "metadata": {},
     "output_type": "execute_result"
    }
   ],
   "source": [
    "Mz"
   ]
  },
  {
   "cell_type": "code",
   "execution_count": 67,
   "id": "715b9dd2-9380-4df1-8fcc-43df7e41ec2b",
   "metadata": {},
   "outputs": [
    {
     "ename": "TypeError",
     "evalue": "unsupported operand type(s) for ^: 'float' and 'int'",
     "output_type": "error",
     "traceback": [
      "\u001b[0;31m---------------------------------------------------------------------------\u001b[0m",
      "\u001b[0;31mTypeError\u001b[0m                                 Traceback (most recent call last)",
      "Cell \u001b[0;32mIn[67], line 1\u001b[0m\n\u001b[0;32m----> 1\u001b[0m G\u001b[38;5;241m=\u001b[39m\u001b[38;5;241m6.67\u001b[39m\u001b[38;5;241m*\u001b[39m\u001b[38;5;241m10\u001b[39m\u001b[38;5;241m^\u001b[39m\u001b[38;5;241m-\u001b[39m\u001b[38;5;241m11\u001b[39m\n",
      "\u001b[0;31mTypeError\u001b[0m: unsupported operand type(s) for ^: 'float' and 'int'"
     ]
    }
   ],
   "source": [
    "G=6.67*10^-11"
   ]
  },
  {
   "cell_type": "code",
   "execution_count": 69,
   "id": "b8dc9e20-3171-4fa0-829e-da39d48e7a60",
   "metadata": {},
   "outputs": [],
   "source": [
    "G=6.67e-11"
   ]
  },
  {
   "cell_type": "code",
   "execution_count": 71,
   "id": "018e1218-1c2a-404a-acbf-4dd4bee1516b",
   "metadata": {},
   "outputs": [
    {
     "data": {
      "text/plain": [
       "6.67e-11"
      ]
     },
     "execution_count": 71,
     "metadata": {},
     "output_type": "execute_result"
    }
   ],
   "source": [
    "G"
   ]
  },
  {
   "cell_type": "code",
   "execution_count": 73,
   "id": "1ed0d2b1-1b05-4e8c-b94c-2ad916f43f37",
   "metadata": {},
   "outputs": [],
   "source": [
    "Mz=5.98e24"
   ]
  },
  {
   "cell_type": "code",
   "execution_count": 75,
   "id": "69dad9cf-e71b-44e3-9720-7fb470248f96",
   "metadata": {},
   "outputs": [],
   "source": [
    "Ms=1.99e30"
   ]
  },
  {
   "cell_type": "code",
   "execution_count": 77,
   "id": "88e73cea-1f1e-4d31-a962-64cdfc852665",
   "metadata": {},
   "outputs": [],
   "source": [
    "r=1.5e11"
   ]
  },
  {
   "cell_type": "code",
   "execution_count": 79,
   "id": "98d9aa62-65d2-4a86-87d3-511f2db4776f",
   "metadata": {},
   "outputs": [
    {
     "ename": "NameError",
     "evalue": "name 'M1' is not defined",
     "output_type": "error",
     "traceback": [
      "\u001b[0;31m---------------------------------------------------------------------------\u001b[0m",
      "\u001b[0;31mNameError\u001b[0m                                 Traceback (most recent call last)",
      "Cell \u001b[0;32mIn[79], line 1\u001b[0m\n\u001b[0;32m----> 1\u001b[0m F\u001b[38;5;241m=\u001b[39m(M1\u001b[38;5;241m*\u001b[39mM2)\u001b[38;5;241m/\u001b[39mr\u001b[38;5;241m^\u001b[39m\u001b[38;5;241m2\u001b[39m\n",
      "\u001b[0;31mNameError\u001b[0m: name 'M1' is not defined"
     ]
    }
   ],
   "source": [
    "F=(M1*M2)/r^2"
   ]
  },
  {
   "cell_type": "code",
   "execution_count": 81,
   "id": "def5f969-8eb7-470c-981e-cddc39c96573",
   "metadata": {},
   "outputs": [
    {
     "ename": "TypeError",
     "evalue": "unsupported operand type(s) for ^: 'float' and 'int'",
     "output_type": "error",
     "traceback": [
      "\u001b[0;31m---------------------------------------------------------------------------\u001b[0m",
      "\u001b[0;31mTypeError\u001b[0m                                 Traceback (most recent call last)",
      "Cell \u001b[0;32mIn[81], line 1\u001b[0m\n\u001b[0;32m----> 1\u001b[0m F\u001b[38;5;241m=\u001b[39m(Mz\u001b[38;5;241m*\u001b[39mMs)\u001b[38;5;241m/\u001b[39mr\u001b[38;5;241m^\u001b[39m\u001b[38;5;241m2\u001b[39m\n",
      "\u001b[0;31mTypeError\u001b[0m: unsupported operand type(s) for ^: 'float' and 'int'"
     ]
    }
   ],
   "source": [
    "F=(Mz*Ms)/r^2"
   ]
  },
  {
   "cell_type": "code",
   "execution_count": 83,
   "id": "880ba6a2-f9fe-4af6-a329-34daec9e2004",
   "metadata": {},
   "outputs": [],
   "source": [
    "F=(Mz*Ms)/r**2"
   ]
  },
  {
   "cell_type": "code",
   "execution_count": 85,
   "id": "544b26bf-0cc4-499c-b863-29b8b4ec3801",
   "metadata": {},
   "outputs": [
    {
     "data": {
      "text/plain": [
       "5.288977777777778e+32"
      ]
     },
     "execution_count": 85,
     "metadata": {},
     "output_type": "execute_result"
    }
   ],
   "source": [
    "F"
   ]
  },
  {
   "cell_type": "code",
   "execution_count": 87,
   "id": "1d8409cb-bb52-4d15-8b69-eec1e7aa7186",
   "metadata": {},
   "outputs": [],
   "source": [
    "M1=5.97e24"
   ]
  },
  {
   "cell_type": "code",
   "execution_count": 89,
   "id": "7600b718-3650-4958-a33f-327bf71bec45",
   "metadata": {},
   "outputs": [],
   "source": [
    "M2=7.35e22"
   ]
  },
  {
   "cell_type": "code",
   "execution_count": 91,
   "id": "14a5680a-d564-48ff-a856-a483ac0a7afb",
   "metadata": {},
   "outputs": [],
   "source": [
    "r=3.84e8"
   ]
  },
  {
   "cell_type": "code",
   "execution_count": 97,
   "id": "de171a38-8c31-47bb-a7ba-5a95c37c1505",
   "metadata": {},
   "outputs": [],
   "source": [
    "F=(Mz*Ms)/r**2"
   ]
  },
  {
   "cell_type": "code",
   "execution_count": 99,
   "id": "b44a5597-b419-49fb-ae72-344033a34cb5",
   "metadata": {},
   "outputs": [
    {
     "name": "stdout",
     "output_type": "stream",
     "text": [
      "Siła grawitaji między Ziemią a Księżycem wynosi: 8.070339626736112e+37 N\n"
     ]
    }
   ],
   "source": [
    "print(\"Siła grawitaji między Ziemią a Księżycem wynosi:\", F, \"N\")"
   ]
  },
  {
   "cell_type": "code",
   "execution_count": null,
   "id": "e11a6bad-f238-46c3-ad54-bed33d93ec3c",
   "metadata": {},
   "outputs": [],
   "source": []
  }
 ],
 "metadata": {
  "kernelspec": {
   "display_name": "Python 3 (ipykernel)",
   "language": "python",
   "name": "python3"
  },
  "language_info": {
   "codemirror_mode": {
    "name": "ipython",
    "version": 3
   },
   "file_extension": ".py",
   "mimetype": "text/x-python",
   "name": "python",
   "nbconvert_exporter": "python",
   "pygments_lexer": "ipython3",
   "version": "3.12.4"
  }
 },
 "nbformat": 4,
 "nbformat_minor": 5
}
